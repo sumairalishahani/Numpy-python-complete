{
 "cells": [
  {
   "cell_type": "markdown",
   "id": "3a59f63d",
   "metadata": {},
   "source": [
    "# Shape"
   ]
  },
  {
   "cell_type": "code",
   "execution_count": 5,
   "id": "596dfb9a",
   "metadata": {},
   "outputs": [
    {
     "name": "stdout",
     "output_type": "stream",
     "text": [
      "(2, 3)\n"
     ]
    }
   ],
   "source": [
    "#Shape=The shape of an array is the number of elements in each dimension.\n",
    "\n",
    "import numpy as np\n",
    "var1=np.array([[1,2,3],[5,6,7]])\n",
    "print(var1.shape)"
   ]
  },
  {
   "cell_type": "code",
   "execution_count": 12,
   "id": "998ac7cf",
   "metadata": {},
   "outputs": [
    {
     "name": "stdout",
     "output_type": "stream",
     "text": [
      "[[[[1 2 3 5]]]]\n",
      "\n",
      "4\n",
      "(1, 1, 1, 4)\n"
     ]
    }
   ],
   "source": [
    "var2=np.array([1,2,3,5],ndmin=4)\n",
    "print(var2)\n",
    "print()\n",
    "print(var2.ndim)\n",
    "print(var2.shape)"
   ]
  },
  {
   "cell_type": "markdown",
   "id": "0f6db7df",
   "metadata": {},
   "source": [
    "# ReShape"
   ]
  },
  {
   "cell_type": "code",
   "execution_count": 22,
   "id": "688d40b4",
   "metadata": {},
   "outputs": [
    {
     "name": "stdout",
     "output_type": "stream",
     "text": [
      "the given array is  2  dimension\n",
      "[[1 2]\n",
      " [3 4]\n",
      " [5 6]]\n"
     ]
    }
   ],
   "source": [
    "#Reshape=conversion of single dimension array into multiple dimension array and viceversa\n",
    "var3=np.array([1,2,3,4,5,6])\n",
    "x=var3.reshape(3,2) \n",
    "print(\"the new array is \",x.ndim,\" dimension\")\n",
    "print(x)"
   ]
  },
  {
   "cell_type": "code",
   "execution_count": 25,
   "id": "7db9cdaf",
   "metadata": {},
   "outputs": [
    {
     "name": "stdout",
     "output_type": "stream",
     "text": [
      "the new array is  3  dimension\n",
      "[[[1 2]\n",
      "  [3 4]]\n",
      "\n",
      " [[5 6]\n",
      "  [9 9]]]\n"
     ]
    }
   ],
   "source": [
    "var4=np.array([1,2,3,4,5,6,9,9])\n",
    "x1=var4.reshape(2,2,2) \n",
    "print(\"the new array is \",x1.ndim,\" dimension\")\n",
    "print(x1)"
   ]
  },
  {
   "cell_type": "code",
   "execution_count": 27,
   "id": "f8ea0340",
   "metadata": {},
   "outputs": [
    {
     "name": "stdout",
     "output_type": "stream",
     "text": [
      "the new array is  3  dimension\n",
      "[[[1 2]\n",
      "  [3 4]]\n",
      "\n",
      " [[5 6]\n",
      "  [9 9]]]\n",
      "\n",
      "[1 2 3 4 5 6 9 9]\n"
     ]
    }
   ],
   "source": [
    "var4=np.array([1,2,3,4,5,6,9,9])\n",
    "x1=var4.reshape(2,2,2) \n",
    "print(\"the new array is \",x1.ndim,\" dimension\")\n",
    "print(x1)\n",
    "\n",
    "# changing from n dimension to one dimension\n",
    "print()\n",
    "one=var4.reshape(-1)\n",
    "print(one)\n",
    "print(one.ndim)"
   ]
  },
  {
   "cell_type": "code",
   "execution_count": null,
   "id": "caadf168",
   "metadata": {},
   "outputs": [],
   "source": []
  }
 ],
 "metadata": {
  "kernelspec": {
   "display_name": "Python 3 (ipykernel)",
   "language": "python",
   "name": "python3"
  },
  "language_info": {
   "codemirror_mode": {
    "name": "ipython",
    "version": 3
   },
   "file_extension": ".py",
   "mimetype": "text/x-python",
   "name": "python",
   "nbconvert_exporter": "python",
   "pygments_lexer": "ipython3",
   "version": "3.9.12"
  }
 },
 "nbformat": 4,
 "nbformat_minor": 5
}
