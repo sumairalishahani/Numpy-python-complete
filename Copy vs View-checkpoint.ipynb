{
 "cells": [
  {
   "cell_type": "markdown",
   "id": "bf89da31",
   "metadata": {},
   "source": [
    "# Copy vs View"
   ]
  },
  {
   "cell_type": "code",
   "execution_count": 7,
   "id": "268b22e8",
   "metadata": {},
   "outputs": [
    {
     "name": "stdout",
     "output_type": "stream",
     "text": [
      "var: [1 2 5 4]\n",
      "Copy: [1 2 3 4]\n"
     ]
    }
   ],
   "source": [
    "import numpy as np\n",
    "var=np.array([1,2,3,4])\n",
    "co=var.copy()\n",
    "var[2]=5\n",
    "print(\"var:\",var)\n",
    "print(\"Copy:\",co)"
   ]
  },
  {
   "cell_type": "code",
   "execution_count": 6,
   "id": "2a427151",
   "metadata": {},
   "outputs": [
    {
     "name": "stdout",
     "output_type": "stream",
     "text": [
      "var1: [3 9 7]\n",
      "view: [3 9 7]\n"
     ]
    }
   ],
   "source": [
    "var1=np.array([3,5,7])\n",
    "vi=var1.view()\n",
    "var1[1]=9\n",
    "print(\"var1:\",var1)\n",
    "print(\"view:\",vi)\n"
   ]
  },
  {
   "cell_type": "code",
   "execution_count": null,
   "id": "7d7b8cf8",
   "metadata": {},
   "outputs": [],
   "source": []
  }
 ],
 "metadata": {
  "kernelspec": {
   "display_name": "Python 3 (ipykernel)",
   "language": "python",
   "name": "python3"
  },
  "language_info": {
   "codemirror_mode": {
    "name": "ipython",
    "version": 3
   },
   "file_extension": ".py",
   "mimetype": "text/x-python",
   "name": "python",
   "nbconvert_exporter": "python",
   "pygments_lexer": "ipython3",
   "version": "3.9.12"
  }
 },
 "nbformat": 4,
 "nbformat_minor": 5
}
