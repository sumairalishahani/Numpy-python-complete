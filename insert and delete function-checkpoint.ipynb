{
 "cells": [
  {
   "cell_type": "markdown",
   "id": "11d63df4",
   "metadata": {},
   "source": [
    "# Insert"
   ]
  },
  {
   "cell_type": "code",
   "execution_count": 8,
   "id": "5022150f",
   "metadata": {},
   "outputs": [
    {
     "name": "stdout",
     "output_type": "stream",
     "text": [
      "[ 1  2 10  3 30  4 20]\n",
      "\n"
     ]
    }
   ],
   "source": [
    "import numpy as np\n",
    "var=np.array([1,2,3,4])\n",
    "x=np.insert(var,(2,4,3),(10,20,30))\n",
    "print(x)\n",
    "print()\n",
    "print(np.append(var,5))\n",
    "#y=np.insert(var,2,)"
   ]
  },
  {
   "cell_type": "code",
   "execution_count": 22,
   "id": "01702ea8",
   "metadata": {},
   "outputs": [
    {
     "name": "stdout",
     "output_type": "stream",
     "text": [
      "[[ 2  3  4]\n",
      " [10 20 20]\n",
      " [ 5  6  7]]\n",
      "\n",
      "[[ 2  3  4]\n",
      " [10 20 20]\n",
      " [ 5  6  7]\n",
      " [ 9  9  8]]\n",
      "\n"
     ]
    }
   ],
   "source": [
    "var1=np.array([[2,3,4],[5,6,7]])\n",
    "y=np.insert(var1,1,[10,20,20],axis=0)\n",
    "print(y)\n",
    "print()\n",
    "print(np.append(y,[[9,9,8]],axis=0))\n",
    "print()\n"
   ]
  },
  {
   "cell_type": "markdown",
   "id": "d0cb4be5",
   "metadata": {},
   "source": [
    "# Delete"
   ]
  },
  {
   "cell_type": "code",
   "execution_count": 23,
   "id": "a33d1365",
   "metadata": {},
   "outputs": [
    {
     "name": "stdout",
     "output_type": "stream",
     "text": [
      "[1 2 3 4]\n",
      "\n",
      "[1 2 4]\n"
     ]
    }
   ],
   "source": [
    "var=np.array([1,2,3,4])\n",
    "print(var)\n",
    "print()\n",
    "y=np.delete(var,2)\n",
    "print(y)"
   ]
  },
  {
   "cell_type": "code",
   "execution_count": 24,
   "id": "9f9d770d",
   "metadata": {},
   "outputs": [
    {
     "name": "stdout",
     "output_type": "stream",
     "text": [
      "[[2 3 4]\n",
      " [5 6 7]]\n",
      "\n",
      "[3 5 6 7]\n"
     ]
    }
   ],
   "source": [
    "var2=np.array([[2,3,4],[5,6,7]])\n",
    "print(var2)\n",
    "print()\n",
    "z=np.delete(var2,(0,2))\n",
    "print(z)\n"
   ]
  },
  {
   "cell_type": "code",
   "execution_count": null,
   "id": "f1954a7c",
   "metadata": {},
   "outputs": [],
   "source": []
  }
 ],
 "metadata": {
  "kernelspec": {
   "display_name": "Python 3 (ipykernel)",
   "language": "python",
   "name": "python3"
  },
  "language_info": {
   "codemirror_mode": {
    "name": "ipython",
    "version": 3
   },
   "file_extension": ".py",
   "mimetype": "text/x-python",
   "name": "python",
   "nbconvert_exporter": "python",
   "pygments_lexer": "ipython3",
   "version": "3.9.12"
  }
 },
 "nbformat": 4,
 "nbformat_minor": 5
}
