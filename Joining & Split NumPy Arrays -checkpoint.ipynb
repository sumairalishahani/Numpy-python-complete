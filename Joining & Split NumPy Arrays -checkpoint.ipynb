{
 "cells": [
  {
   "cell_type": "markdown",
   "id": "9280cad6",
   "metadata": {},
   "source": [
    "# Join Array"
   ]
  },
  {
   "cell_type": "code",
   "execution_count": 1,
   "id": "79f3dee4",
   "metadata": {
    "scrolled": true
   },
   "outputs": [
    {
     "name": "stdout",
     "output_type": "stream",
     "text": [
      "[1 2 3 4]\n",
      "[2 3 4 5]\n",
      "\n",
      "[1 2 3 4 2 3 4 5]\n"
     ]
    }
   ],
   "source": [
    "#join Array=putting contents of two or more arrays in a single array.\n",
    "import numpy as np\n",
    "var=np.array([1,2,3,4])\n",
    "var1=np.array([2,3,4,5])\n",
    "var3=np.concatenate((var,var1))\n",
    "print(var)\n",
    "print(var1)\n",
    "print()\n",
    "print(var3)"
   ]
  },
  {
   "cell_type": "code",
   "execution_count": 12,
   "id": "437018bd",
   "metadata": {},
   "outputs": [
    {
     "name": "stdout",
     "output_type": "stream",
     "text": [
      "\n",
      "\n",
      "[[1 2 3 4 4 5 6 7]\n",
      " [2 3 4 5 5 6 7 4]]\n",
      "\n",
      "[[1 2 3 4]\n",
      " [2 3 4 5]\n",
      " [4 5 6 7]\n",
      " [5 6 7 4]]\n"
     ]
    }
   ],
   "source": [
    "var=np.array([[1,2,3,4],[2,3,4,5]])\n",
    "var1=np.array([[4,5,6,7],[5,6,7,4]])\n",
    "print()\n",
    "print()\n",
    "# merge on row side\n",
    "var2=np.concatenate((var,var1),axis=1)\n",
    "print(var2)\n",
    "print()\n",
    "var3=np.concatenate((var,var1),axis=0)\n",
    "print(var3)\n"
   ]
  },
  {
   "cell_type": "code",
   "execution_count": 9,
   "id": "bf9e5d72",
   "metadata": {},
   "outputs": [
    {
     "name": "stdout",
     "output_type": "stream",
     "text": [
      "[10 20 30 40]\n",
      "\n",
      "[[10 20 30 40]\n",
      " [ 2  4  1  2]]\n"
     ]
    }
   ],
   "source": [
    "# Stack\n",
    "var4=np.array([10,20,30,40])\n",
    "var3=np.array([2,4,1,2])\n",
    "print(var4)\n",
    "print()\n",
    "new_var=np.stack((var4,var3),axis=0)\n",
    "print(new_var)"
   ]
  },
  {
   "cell_type": "code",
   "execution_count": 11,
   "id": "ee2e5e14",
   "metadata": {},
   "outputs": [
    {
     "name": "stdout",
     "output_type": "stream",
     "text": [
      "\n",
      "[[10  2]\n",
      " [20  4]\n",
      " [30  1]\n",
      " [40  2]]\n",
      "\n",
      "[10 20 30 40  2  4  1  2]\n",
      "\n",
      "[[10 20 30 40]\n",
      " [ 2  4  1  2]]\n",
      "\n",
      "[[10 20 30 40]\n",
      " [ 2  4  1  2]]\n"
     ]
    }
   ],
   "source": [
    "# three types of stack 1.hstack=merge data horizentally  2.vstack=merge data vertically  3.dstack=merge data along height\n",
    "var4=np.array([10,20,30,40])\n",
    "var3=np.array([2,4,1,2])\n",
    "print()\n",
    "new_var=np.stack((var4,var3),axis=1) b\n",
    "print(new_var)\n",
    "print()\n",
    "new_var1=np.hstack((var4,var3))# Row\n",
    "print(new_var1)\n",
    "print()\n",
    "new_var3=np.vstack((var4,var3))# Column\n",
    "print(new_var3)\n",
    "print()\n",
    "new_var4=np.vstack((var4,var3))\n",
    "\n",
    "print(new_var4)\n"
   ]
  },
  {
   "cell_type": "markdown",
   "id": "392c4fe1",
   "metadata": {},
   "source": [
    "# Split"
   ]
  },
  {
   "cell_type": "code",
   "execution_count": 16,
   "id": "9fd4a446",
   "metadata": {},
   "outputs": [
    {
     "name": "stdout",
     "output_type": "stream",
     "text": [
      "[3 4 5 6 9 8 7]\n",
      "[array([3, 4, 5]), array([6, 9]), array([8, 7])]\n"
     ]
    }
   ],
   "source": [
    "# break one array into multiple arrays\n",
    "var =np.array([3,4,5,6,9,8,7])\n",
    "print(var)\n",
    "new_var5=np.array_split(var,3)\n",
    "print(new_var5)"
   ]
  },
  {
   "cell_type": "code",
   "execution_count": 17,
   "id": "205918ed",
   "metadata": {},
   "outputs": [
    {
     "name": "stdout",
     "output_type": "stream",
     "text": [
      "[[4 6 7 7 8]\n",
      " [7 8 5 3 2]]\n",
      "\n",
      "[array([[4, 6, 7, 7, 8]]), array([[7, 8, 5, 3, 2]]), array([], shape=(0, 5), dtype=int32)]\n"
     ]
    }
   ],
   "source": [
    "var1=np.array([[4,6,7,7,8],[7,8,5,3,2]])\n",
    "print(var1)\n",
    "print()\n",
    "var2=np.array_split(var1,3)\n",
    "print(var2)"
   ]
  },
  {
   "cell_type": "code",
   "execution_count": null,
   "id": "1f95becb",
   "metadata": {},
   "outputs": [],
   "source": []
  }
 ],
 "metadata": {
  "kernelspec": {
   "display_name": "Python 3 (ipykernel)",
   "language": "python",
   "name": "python3"
  },
  "language_info": {
   "codemirror_mode": {
    "name": "ipython",
    "version": 3
   },
   "file_extension": ".py",
   "mimetype": "text/x-python",
   "name": "python",
   "nbconvert_exporter": "python",
   "pygments_lexer": "ipython3",
   "version": "3.9.12"
  }
 },
 "nbformat": 4,
 "nbformat_minor": 5
}
