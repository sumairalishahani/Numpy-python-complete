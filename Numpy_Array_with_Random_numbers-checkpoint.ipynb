{
 "cells": [
  {
   "cell_type": "markdown",
   "id": "8a1701b6",
   "metadata": {},
   "source": [
    "# Numpy_Array_with_Random_numbers"
   ]
  },
  {
   "cell_type": "code",
   "execution_count": 14,
   "id": "49d384c7",
   "metadata": {},
   "outputs": [
    {
     "name": "stdout",
     "output_type": "stream",
     "text": [
      "[0.416909   0.38169165 0.01679488 0.49072367 0.99128608]\n",
      "\n",
      "[[0.94773424 0.25374853 0.13210495 0.02602878]\n",
      " [0.77548917 0.43338089 0.77740286 0.74310423]\n",
      " [0.54440217 0.72098513 0.62074754 0.69890915]]\n"
     ]
    }
   ],
   "source": [
    "# Rand()=generate a random number between 0 and 1\n",
    "import numpy as np\n",
    "var=np.random.rand(5)\n",
    "print(var)\n",
    "print()\n",
    "\n",
    "#  2d \n",
    "var1=np.random.rand(3,4)\n",
    "print(var1)"
   ]
  },
  {
   "cell_type": "markdown",
   "id": "335681c0",
   "metadata": {},
   "source": [
    "# randn()"
   ]
  },
  {
   "cell_type": "code",
   "execution_count": 15,
   "id": "33705499",
   "metadata": {},
   "outputs": [
    {
     "name": "stdout",
     "output_type": "stream",
     "text": [
      "[-1.69434901 -1.11707737  2.12127385  1.13872775]\n",
      "\n",
      "[[-0.55160862 -0.53060682 -0.67758478 -0.83507036]\n",
      " [-0.98404902 -0.28497516 -0.73957584  0.02626081]\n",
      " [ 0.15362393  1.45170015  0.04211337  0.38713009]]\n"
     ]
    }
   ],
   "source": [
    "# randn()=generate a random value close to zero positive or negative\n",
    "var2=np.random.randn(4)\n",
    "print(var2)\n",
    "print()\n",
    "\n",
    "# 2d \n",
    "var3=np.random.randn(3,4)\n",
    "print(var3)"
   ]
  },
  {
   "cell_type": "markdown",
   "id": "edb82f86",
   "metadata": {},
   "source": [
    "# randf()"
   ]
  },
  {
   "cell_type": "code",
   "execution_count": 10,
   "id": "7d29c6f4",
   "metadata": {},
   "outputs": [
    {
     "name": "stdout",
     "output_type": "stream",
     "text": [
      "[0.98288323 0.48267624 0.81200228]\n",
      "\n"
     ]
    }
   ],
   "source": [
    "# randf()=it returns a float value  [0.0 to 1.0) exclude 1.0\n",
    "var4=np.random.ranf(3)\n",
    "print (var4)\n",
    "print()\n"
   ]
  },
  {
   "cell_type": "markdown",
   "id": "cc3c7e05",
   "metadata": {},
   "source": [
    "# randint()"
   ]
  },
  {
   "cell_type": "code",
   "execution_count": 13,
   "id": "a7ae2d04",
   "metadata": {},
   "outputs": [
    {
     "name": "stdout",
     "output_type": "stream",
     "text": [
      "[ 5 15 17 24 16 25 16 17  4]\n"
     ]
    }
   ],
   "source": [
    "# randint()=syntax(min,max,total_value)= \n",
    "var5=np.random.randint(3,27,9)\n",
    "print(var5)"
   ]
  },
  {
   "cell_type": "code",
   "execution_count": null,
   "id": "9809c71e",
   "metadata": {},
   "outputs": [],
   "source": []
  }
 ],
 "metadata": {
  "kernelspec": {
   "display_name": "Python 3 (ipykernel)",
   "language": "python",
   "name": "python3"
  },
  "language_info": {
   "codemirror_mode": {
    "name": "ipython",
    "version": 3
   },
   "file_extension": ".py",
   "mimetype": "text/x-python",
   "name": "python",
   "nbconvert_exporter": "python",
   "pygments_lexer": "ipython3",
   "version": "3.9.12"
  }
 },
 "nbformat": 4,
 "nbformat_minor": 5
}
