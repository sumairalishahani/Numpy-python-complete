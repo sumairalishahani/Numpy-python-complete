{
 "cells": [
  {
   "cell_type": "markdown",
   "id": "b2e8d2bb",
   "metadata": {},
   "source": [
    "# DataType"
   ]
  },
  {
   "cell_type": "code",
   "execution_count": 5,
   "id": "cc506a7d",
   "metadata": {},
   "outputs": [
    {
     "name": "stdout",
     "output_type": "stream",
     "text": [
      "DataType: int32\n"
     ]
    }
   ],
   "source": [
    "import numpy as np\n",
    "var=np.array([1,2,3,4,12,15])\n",
    "print(\"DataType:\",var.dtype)"
   ]
  },
  {
   "cell_type": "code",
   "execution_count": 7,
   "id": "1a49c9e7",
   "metadata": {},
   "outputs": [
    {
     "name": "stdout",
     "output_type": "stream",
     "text": [
      "float64\n"
     ]
    }
   ],
   "source": [
    "var1=np.array([1.1,0,3,6.0])\n",
    "print(var1.dtype)"
   ]
  },
  {
   "cell_type": "code",
   "execution_count": 8,
   "id": "f7bd081a",
   "metadata": {},
   "outputs": [
    {
     "name": "stdout",
     "output_type": "stream",
     "text": [
      "<U6\n"
     ]
    }
   ],
   "source": [
    "var2=np.array([\"sumair\",\"sachal\",\"sada\"])\n",
    "print(var2.dtype)"
   ]
  },
  {
   "cell_type": "code",
   "execution_count": 9,
   "id": "9837f935",
   "metadata": {},
   "outputs": [
    {
     "name": "stdout",
     "output_type": "stream",
     "text": [
      "<U11\n"
     ]
    }
   ],
   "source": [
    "var3=np.array([\"sumair\",93,\"sachal\",108])\n",
    "print(var3.dtype)"
   ]
  },
  {
   "cell_type": "markdown",
   "id": "6c0db4d2",
   "metadata": {},
   "source": [
    "# Conversion of data types"
   ]
  },
  {
   "cell_type": "code",
   "execution_count": 14,
   "id": "d56731c5",
   "metadata": {},
   "outputs": [
    {
     "name": "stdout",
     "output_type": "stream",
     "text": [
      "int8\n",
      "[1 2 3 4 5]\n"
     ]
    }
   ],
   "source": [
    "var4=np.array([1,2,3,4,5],dtype=np.int8)\n",
    "print(var4.dtype)\n",
    "print(var4)"
   ]
  },
  {
   "cell_type": "code",
   "execution_count": 15,
   "id": "476c7f90",
   "metadata": {},
   "outputs": [
    {
     "name": "stdout",
     "output_type": "stream",
     "text": [
      "float32\n",
      "[1. 2. 4. 5. 6.]\n"
     ]
    }
   ],
   "source": [
    "var5=np.array([1,2,4,5,6],dtype=\"f\")\n",
    "print(var5.dtype)\n",
    "print(var5)"
   ]
  },
  {
   "cell_type": "code",
   "execution_count": null,
   "id": "a01a31d9",
   "metadata": {},
   "outputs": [],
   "source": []
  }
 ],
 "metadata": {
  "kernelspec": {
   "display_name": "Python 3 (ipykernel)",
   "language": "python",
   "name": "python3"
  },
  "language_info": {
   "codemirror_mode": {
    "name": "ipython",
    "version": 3
   },
   "file_extension": ".py",
   "mimetype": "text/x-python",
   "name": "python",
   "nbconvert_exporter": "python",
   "pygments_lexer": "ipython3",
   "version": "3.9.12"
  }
 },
 "nbformat": 4,
 "nbformat_minor": 5
}
