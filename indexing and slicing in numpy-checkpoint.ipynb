{
 "cells": [
  {
   "cell_type": "markdown",
   "id": "a96ecb7a",
   "metadata": {},
   "source": [
    "# indexing"
   ]
  },
  {
   "cell_type": "code",
   "execution_count": 4,
   "id": "c95273ab",
   "metadata": {
    "scrolled": true
   },
   "outputs": [
    {
     "name": "stdout",
     "output_type": "stream",
     "text": [
      "4\n",
      "1\n"
     ]
    }
   ],
   "source": [
    "import numpy as np\n",
    "var1=np.array([1,2,3,4])\n",
    "print(var1[-1])\n",
    "print(var1[0])"
   ]
  },
  {
   "cell_type": "code",
   "execution_count": 12,
   "id": "4f37de5c",
   "metadata": {},
   "outputs": [
    {
     "name": "stdout",
     "output_type": "stream",
     "text": [
      "2\n",
      "2\n"
     ]
    }
   ],
   "source": [
    "var2=np.array([[1,2,3],[2,3,4]])\n",
    "print(var2[1,0])\n",
    "print(var2.ndim)"
   ]
  },
  {
   "cell_type": "code",
   "execution_count": 11,
   "id": "1895bd09",
   "metadata": {},
   "outputs": [
    {
     "name": "stdout",
     "output_type": "stream",
     "text": [
      "5\n"
     ]
    }
   ],
   "source": [
    "var3=np.array([[[1,2,3],[5,6,7]]])\n",
    "print(var3[0,1,0])"
   ]
  },
  {
   "cell_type": "code",
   "execution_count": 13,
   "id": "f0c04af1",
   "metadata": {},
   "outputs": [
    {
     "name": "stdout",
     "output_type": "stream",
     "text": [
      "\n",
      "6\n"
     ]
    }
   ],
   "source": [
    "var4=np.array([[[[1,2,3,4],[4,5,6,7]]]])\n",
    "print()\n",
    "print(var4[0,0,1,2])"
   ]
  },
  {
   "cell_type": "markdown",
   "id": "fa902f28",
   "metadata": {},
   "source": [
    "# Slicing"
   ]
  },
  {
   "cell_type": "code",
   "execution_count": 16,
   "id": "cc7debce",
   "metadata": {},
   "outputs": [
    {
     "name": "stdout",
     "output_type": "stream",
     "text": [
      "[ 2  3  5  7  9 98]\n",
      "\n",
      "[1 2 3 5 7]\n",
      "[ 1  5 98]\n",
      "\n",
      "[2 5]\n"
     ]
    }
   ],
   "source": [
    "#start:stop:step\n",
    "# for single dimension\n",
    "var =np.array([1,2,3,5,7,9,98])\n",
    "print(var[1:])\n",
    "print()\n",
    "print(var[:5])\n",
    "print(var[::3])\n",
    "print()\n",
    "print(var[1:5:2])"
   ]
  },
  {
   "cell_type": "code",
   "execution_count": 18,
   "id": "96564e5c",
   "metadata": {},
   "outputs": [
    {
     "name": "stdout",
     "output_type": "stream",
     "text": [
      "[[ 1  2  3  9  8]\n",
      " [ 2  5  6  7 90]\n",
      " [ 7  9  8  4  7]]\n",
      "\n",
      "[ 5  6  7 90]\n"
     ]
    }
   ],
   "source": [
    "# for two dimension\n",
    "var5=np.array([[1,2,3,9,8],[2,5,6,7,90],[7,9,8,4,7]])\n",
    "print(var5)\n",
    "print()\n",
    "print(var5[1,1:])\n"
   ]
  },
  {
   "cell_type": "code",
   "execution_count": 20,
   "id": "b71e2c8e",
   "metadata": {},
   "outputs": [
    {
     "name": "stdout",
     "output_type": "stream",
     "text": [
      "\n",
      "[[[ 1  2  3  4  5]\n",
      "  [ 9 89 87 76 65]\n",
      "  [11 22 33 44 55]]]\n",
      "\n",
      "[22 33 44 55]\n"
     ]
    }
   ],
   "source": [
    "# for n dimension\n",
    "var6=np.array([[[1,2,3,4,5],[9,89,87,76,65],[11,22,33,44,55]]])\n",
    "print()\n",
    "print(var6)\n",
    "print()\n",
    "print(var6[0,2,1:])"
   ]
  },
  {
   "cell_type": "code",
   "execution_count": null,
   "id": "5a4fd936",
   "metadata": {},
   "outputs": [],
   "source": []
  }
 ],
 "metadata": {
  "kernelspec": {
   "display_name": "Python 3 (ipykernel)",
   "language": "python",
   "name": "python3"
  },
  "language_info": {
   "codemirror_mode": {
    "name": "ipython",
    "version": 3
   },
   "file_extension": ".py",
   "mimetype": "text/x-python",
   "name": "python",
   "nbconvert_exporter": "python",
   "pygments_lexer": "ipython3",
   "version": "3.9.12"
  }
 },
 "nbformat": 4,
 "nbformat_minor": 5
}
