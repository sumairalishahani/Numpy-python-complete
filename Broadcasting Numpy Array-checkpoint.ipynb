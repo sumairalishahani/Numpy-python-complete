{
 "cells": [
  {
   "cell_type": "markdown",
   "id": "3127e14c",
   "metadata": {},
   "source": [
    "# Broadcasting Numpy Array\n"
   ]
  },
  {
   "cell_type": "code",
   "execution_count": 3,
   "id": "f93dad7a",
   "metadata": {},
   "outputs": [
    {
     "name": "stdout",
     "output_type": "stream",
     "text": [
      "(3,)\n",
      "(3, 1)\n",
      "[[ 2  3  4]\n",
      " [ 9 10 11]\n",
      " [ 7  8  9]]\n"
     ]
    }
   ],
   "source": [
    "# same dimension \n",
    "# one of them is 1\n",
    "import numpy as np\n",
    "var1=np.array([1,2,3])\n",
    "print(var1.shape)\n",
    "var2=np.array([[1],[8],[6]])\n",
    "print(var2.shape)\n",
    "\n",
    "print(var1+var2)"
   ]
  },
  {
   "cell_type": "code",
   "execution_count": 9,
   "id": "512bdae5",
   "metadata": {},
   "outputs": [
    {
     "name": "stdout",
     "output_type": "stream",
     "text": [
      "(2, 1)\n",
      "\n",
      "(2, 3)\n",
      "\n",
      "[[7 8 9]\n",
      " [7 6 5]]\n"
     ]
    }
   ],
   "source": [
    "var3=np.array([[3],[2]])\n",
    "print(var3.shape)\n",
    "print()\n",
    "var4=np.array([[4,5,6],[5,4,3]])\n",
    "print(var4.shape)\n",
    "print()\n",
    "print(var3+var4)"
   ]
  },
  {
   "cell_type": "code",
   "execution_count": null,
   "id": "e63908d7",
   "metadata": {},
   "outputs": [],
   "source": []
  }
 ],
 "metadata": {
  "kernelspec": {
   "display_name": "Python 3 (ipykernel)",
   "language": "python",
   "name": "python3"
  },
  "language_info": {
   "codemirror_mode": {
    "name": "ipython",
    "version": 3
   },
   "file_extension": ".py",
   "mimetype": "text/x-python",
   "name": "python",
   "nbconvert_exporter": "python",
   "pygments_lexer": "ipython3",
   "version": "3.9.12"
  }
 },
 "nbformat": 4,
 "nbformat_minor": 5
}
