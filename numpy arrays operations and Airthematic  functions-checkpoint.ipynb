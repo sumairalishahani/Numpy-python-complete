{
 "cells": [
  {
   "cell_type": "markdown",
   "id": "26008083",
   "metadata": {},
   "source": [
    "# operations/function"
   ]
  },
  {
   "cell_type": "markdown",
   "id": "fa6cfc53",
   "metadata": {},
   "source": [
    "# Search Array"
   ]
  },
  {
   "cell_type": "code",
   "execution_count": 3,
   "id": "1b126b0e",
   "metadata": {
    "scrolled": true
   },
   "outputs": [
    {
     "name": "stdout",
     "output_type": "stream",
     "text": [
      "(array([2, 5], dtype=int64),)\n",
      "\n",
      "(array([2, 5, 7, 8], dtype=int64),)\n"
     ]
    }
   ],
   "source": [
    "import numpy as np\n",
    "var=np.array([2,3,5,8,9,5,4,10,20])\n",
    "x=np.where(var==5)\n",
    "print(x)\n",
    "print()\n",
    "y=np.where(var%5==0)\n",
    "print(y)\n"
   ]
  },
  {
   "cell_type": "markdown",
   "id": "62d843c8",
   "metadata": {},
   "source": [
    "# Search Sorted Array"
   ]
  },
  {
   "cell_type": "code",
   "execution_count": 9,
   "id": "0bdaae75",
   "metadata": {},
   "outputs": [
    {
     "name": "stdout",
     "output_type": "stream",
     "text": [
      "3  should be placed at index: 7\n",
      "7\n"
     ]
    }
   ],
   "source": [
    "#search sorted array=binary search\n",
    "var=np.array([1,2,4,5,6,7,8])\n",
    "x1=np.searchsorted(var,9)\n",
    "print(\" should be placed at index:\",x1)    # left to right\n",
    " #x1=np.searchsorted(var,5,side=\"right\")  #  right to left\n",
    "print(x1)"
   ]
  },
  {
   "cell_type": "markdown",
   "id": "a8e1b35e",
   "metadata": {},
   "source": [
    "# Sort"
   ]
  },
  {
   "cell_type": "code",
   "execution_count": 10,
   "id": "cc7b6331",
   "metadata": {},
   "outputs": [
    {
     "name": "stdout",
     "output_type": "stream",
     "text": [
      "[ 3  4  5  6  8  9 12 32 56 70 70 90]\n"
     ]
    }
   ],
   "source": [
    "var_1=np.array([9,90,8,70,6,70,5,4,3,56,32,12])\n",
    "print(np.sort(var_1))"
   ]
  },
  {
   "cell_type": "code",
   "execution_count": 11,
   "id": "00de561d",
   "metadata": {},
   "outputs": [
    {
     "name": "stdout",
     "output_type": "stream",
     "text": [
      "['a' 'b' 'c' 'r' 's']\n"
     ]
    }
   ],
   "source": [
    "var_2=np.array(['s','r','a','c','b'])\n",
    "print(np.sort(var_2))"
   ]
  },
  {
   "cell_type": "code",
   "execution_count": 13,
   "id": "3e077f62",
   "metadata": {},
   "outputs": [
    {
     "name": "stdout",
     "output_type": "stream",
     "text": [
      "[[ 3 20 23 43]\n",
      " [ 8  9 89 90]\n",
      " [ 1  2  3  4]]\n"
     ]
    }
   ],
   "source": [
    "var_3=np.array([[23,43,20,3],[8,9,90,89],[3,4,2,1]])\n",
    "print(np.sort(var_3))"
   ]
  },
  {
   "cell_type": "markdown",
   "id": "f21e4302",
   "metadata": {},
   "source": [
    "# filter Array"
   ]
  },
  {
   "cell_type": "code",
   "execution_count": 23,
   "id": "c14a7e36",
   "metadata": {},
   "outputs": [
    {
     "name": "stdout",
     "output_type": "stream",
     "text": [
      "['s' 'a' 'c' 'b']\n"
     ]
    }
   ],
   "source": [
    "var_3=np.array(['s','r','a','c','b'])\n",
    "f=[True,False,True,True,True]\n",
    "new_a=var_3[f]\n",
    "print(new_a)"
   ]
  },
  {
   "cell_type": "markdown",
   "id": "f5f292e5",
   "metadata": {},
   "source": [
    "# Shuffle"
   ]
  },
  {
   "cell_type": "code",
   "execution_count": 19,
   "id": "7162459f",
   "metadata": {},
   "outputs": [
    {
     "name": "stdout",
     "output_type": "stream",
     "text": [
      "[6 2 9 5 3]\n"
     ]
    }
   ],
   "source": [
    "var_s=np.array([2,3,5,6,9])\n",
    "np.random.shuffle(var_s)\n",
    "print(var_s)"
   ]
  },
  {
   "cell_type": "markdown",
   "id": "3e3ba236",
   "metadata": {},
   "source": [
    "# unique"
   ]
  },
  {
   "cell_type": "code",
   "execution_count": 24,
   "id": "a4e128e3",
   "metadata": {
    "scrolled": true
   },
   "outputs": [
    {
     "name": "stdout",
     "output_type": "stream",
     "text": [
      "\n",
      "[1 2 3 4 5 6 7]\n",
      "(array([1, 2, 3, 4, 5, 6, 7]), array([ 7,  8,  9, 10,  2,  0,  1], dtype=int64), array([1, 1, 1, 1, 2, 4, 1], dtype=int64))\n"
     ]
    }
   ],
   "source": [
    "# unique=skip repeated value and only shows unique values in array\n",
    "var1=np.array([6,7,5,6,6,5,6,1,2,3,4,])\n",
    "x=np.unique(var1)\n",
    "print()\n",
    "\n",
    "print(x)\n",
    "y=np.unique(var1,return_index=True,return_counts=True)\n",
    "print(y)\n"
   ]
  },
  {
   "cell_type": "markdown",
   "id": "b1b64d0a",
   "metadata": {},
   "source": [
    "# Resize"
   ]
  },
  {
   "cell_type": "code",
   "execution_count": 25,
   "id": "5be0531a",
   "metadata": {},
   "outputs": [
    {
     "name": "stdout",
     "output_type": "stream",
     "text": [
      "[[1 2 3]\n",
      " [4 5 6]]\n"
     ]
    }
   ],
   "source": [
    "var2=np.array([1,2,3,4,5,6])\n",
    "p=np.resize(var2,(2,3))\n",
    "print(p)"
   ]
  },
  {
   "cell_type": "code",
   "execution_count": null,
   "id": "844b7995",
   "metadata": {},
   "outputs": [],
   "source": []
  }
 ],
 "metadata": {
  "kernelspec": {
   "display_name": "Python 3 (ipykernel)",
   "language": "python",
   "name": "python3"
  },
  "language_info": {
   "codemirror_mode": {
    "name": "ipython",
    "version": 3
   },
   "file_extension": ".py",
   "mimetype": "text/x-python",
   "name": "python",
   "nbconvert_exporter": "python",
   "pygments_lexer": "ipython3",
   "version": "3.9.12"
  }
 },
 "nbformat": 4,
 "nbformat_minor": 5
}
