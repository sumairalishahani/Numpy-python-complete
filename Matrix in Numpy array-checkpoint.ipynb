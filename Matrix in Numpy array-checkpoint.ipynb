{
 "cells": [
  {
   "cell_type": "markdown",
   "id": "26394691",
   "metadata": {},
   "source": [
    "# Matrix"
   ]
  },
  {
   "cell_type": "code",
   "execution_count": 10,
   "id": "83386525",
   "metadata": {},
   "outputs": [
    {
     "name": "stdout",
     "output_type": "stream",
     "text": [
      "[[9 9]\n",
      " [4 5]]\n",
      "\n",
      "[[9 9]\n",
      " [4 5]]\n",
      "\n",
      "matrix:\n",
      " [[18 18]\n",
      " [ 8 10]]\n",
      "Array:\n",
      " [[18 18]\n",
      " [ 8 10]]\n",
      "\n",
      "matrix multiplication:\n",
      " [[117 126]\n",
      " [ 56  61]]\n",
      "Array multiplication:\n",
      " [[81 81]\n",
      " [16 25]]\n"
     ]
    }
   ],
   "source": [
    "import numpy as np\n",
    "var1=np.matrix([[9,9],[4,5]])\n",
    "var2=np.matrix([[9,9],[4,5]])\n",
    "\n",
    "print(var1)\n",
    "print()\n",
    "var3=np.array([[9,9],[4,5]])\n",
    "var4=np.array([[9,9],[4,5]])\n",
    "\n",
    "print(var2)\n",
    "print()\n",
    "# Addition of array and matrix\n",
    "print(\"matrix:\\n\",var1+var2)\n",
    "print(\"Array:\\n\",var3+var4)\n",
    "print()\n",
    "print(\"matrix multiplication:\\n\",var1.dot(var2))\n",
    "print(\"Array multiplication:\\n\",var3*var3)"
   ]
  },
  {
   "cell_type": "markdown",
   "id": "f47d7522",
   "metadata": {},
   "source": [
    "# Matrix Function"
   ]
  },
  {
   "cell_type": "markdown",
   "id": "5d8fa220",
   "metadata": {},
   "source": [
    "# Transpose"
   ]
  },
  {
   "cell_type": "code",
   "execution_count": 14,
   "id": "0f0b293f",
   "metadata": {},
   "outputs": [
    {
     "name": "stdout",
     "output_type": "stream",
     "text": [
      "[[3 9]\n",
      " [4 9]]\n",
      "\n",
      "[[3 9]\n",
      " [4 9]]\n"
     ]
    }
   ],
   "source": [
    "var1=np.matrix([[3,4],[9,9]])\n",
    "x=np.transpose(var1)\n",
    "# or another method\n",
    "print(var1.T)\n",
    "print()\n",
    "\n",
    "print(x)"
   ]
  },
  {
   "cell_type": "markdown",
   "id": "5be8dab8",
   "metadata": {},
   "source": [
    "# SWapaxes"
   ]
  },
  {
   "cell_type": "code",
   "execution_count": 17,
   "id": "f3651f93",
   "metadata": {},
   "outputs": [
    {
     "name": "stdout",
     "output_type": "stream",
     "text": [
      "[[3 9]\n",
      " [4 9]]\n"
     ]
    }
   ],
   "source": [
    "var1=np.matrix([[3,4],[9,9]])\n",
    "print(np.swapaxes(var1,1,0))"
   ]
  },
  {
   "cell_type": "markdown",
   "id": "15ec537a",
   "metadata": {},
   "source": [
    "# Inverse"
   ]
  },
  {
   "cell_type": "code",
   "execution_count": 21,
   "id": "2310a51e",
   "metadata": {},
   "outputs": [
    {
     "name": "stdout",
     "output_type": "stream",
     "text": [
      "[[-1.   1. ]\n",
      " [ 0.8 -0.6]]\n"
     ]
    }
   ],
   "source": [
    "var2=np.matrix([[3,5],[4,5]])\n",
    "print(np.linalg.inv(var2))\n"
   ]
  },
  {
   "cell_type": "markdown",
   "id": "bb54df77",
   "metadata": {},
   "source": [
    "# Power"
   ]
  },
  {
   "cell_type": "code",
   "execution_count": 25,
   "id": "e86be06a",
   "metadata": {},
   "outputs": [
    {
     "name": "stdout",
     "output_type": "stream",
     "text": [
      "[[ 69  81  78]\n",
      " [101 119 116]\n",
      " [125 149 152]]\n",
      "\n",
      "[[1236 1464 1458]\n",
      " [1826 2162 2150]\n",
      " [2336 2762 2732]]\n",
      "\n",
      "[[1 0 0]\n",
      " [0 1 0]\n",
      " [0 0 1]]\n",
      "\n",
      "[[-146.83333333  126.61111111  -21.27777778]\n",
      " [ 156.33333333 -134.88888889   22.72222222]\n",
      " [ -32.5          28.11111111   -4.77777778]]\n"
     ]
    }
   ],
   "source": [
    "var3=np.matrix([[3,4,5],[5,6,7],[8,9,7]])\n",
    "print(var3.dot(var3))\n",
    "print()\n",
    "print(np.linalg.matrix_power(var3,3))\n",
    "print()\n",
    "print(np.linalg.matrix_power(var3,0))\n",
    "print()\n",
    "print(np.linalg.matrix_power(var3,-3))"
   ]
  },
  {
   "cell_type": "markdown",
   "id": "8bce7a34",
   "metadata": {},
   "source": [
    "# DETERMINANT"
   ]
  },
  {
   "cell_type": "code",
   "execution_count": 28,
   "id": "afc664c8",
   "metadata": {},
   "outputs": [
    {
     "name": "stdout",
     "output_type": "stream",
     "text": [
      "5.999999999999998\n"
     ]
    }
   ],
   "source": [
    "var3=np.matrix([[3,4,5],[5,6,7],[8,9,7]])\n",
    "print(np.linalg.det(var3))"
   ]
  },
  {
   "cell_type": "code",
   "execution_count": null,
   "id": "0bbee4a5",
   "metadata": {},
   "outputs": [],
   "source": []
  }
 ],
 "metadata": {
  "kernelspec": {
   "display_name": "Python 3 (ipykernel)",
   "language": "python",
   "name": "python3"
  },
  "language_info": {
   "codemirror_mode": {
    "name": "ipython",
    "version": 3
   },
   "file_extension": ".py",
   "mimetype": "text/x-python",
   "name": "python",
   "nbconvert_exporter": "python",
   "pygments_lexer": "ipython3",
   "version": "3.9.12"
  }
 },
 "nbformat": 4,
 "nbformat_minor": 5
}
