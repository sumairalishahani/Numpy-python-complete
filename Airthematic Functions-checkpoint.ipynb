{
 "cells": [
  {
   "cell_type": "markdown",
   "id": "994e73ff",
   "metadata": {},
   "source": [
    "# Airthematic Functions\n"
   ]
  },
  {
   "cell_type": "code",
   "execution_count": 14,
   "id": "d76f50b3",
   "metadata": {},
   "outputs": [
    {
     "name": "stdout",
     "output_type": "stream",
     "text": [
      "the minimun element in array is  1\n",
      "\n",
      "sqrt: [1.         1.73205081 6.32455532 2.44948974]\n"
     ]
    }
   ],
   "source": [
    "import numpy as np\n",
    "var1=np.array([1,3,40,6])\n",
    "varmin=np.min(var1)\n",
    "\n",
    "print(\"the minimun element in array is \",varmin)\n",
    "\n",
    "print()\n",
    "print(\"sqrt:\",np.sqrt(var1))"
   ]
  },
  {
   "cell_type": "code",
   "execution_count": 3,
   "id": "b464c753",
   "metadata": {},
   "outputs": [
    {
     "name": "stdout",
     "output_type": "stream",
     "text": [
      "the maximun element in array is  40\n"
     ]
    }
   ],
   "source": [
    "var1=np.array([1,3,40,6])\n",
    "varmax=np.max(var1)\n",
    "print(\"the maximun element in array is \",varmax)"
   ]
  },
  {
   "cell_type": "code",
   "execution_count": 4,
   "id": "06615bfc",
   "metadata": {},
   "outputs": [
    {
     "name": "stdout",
     "output_type": "stream",
     "text": [
      "the maximun element in array is  0\n"
     ]
    }
   ],
   "source": [
    "var1=np.array([1,3,40,6])\n",
    "varargmax=np.argmin(var1)\n",
    "print(\"the index of minimum number is \",varargmax)"
   ]
  },
  {
   "cell_type": "code",
   "execution_count": 7,
   "id": "db0d37ee",
   "metadata": {},
   "outputs": [
    {
     "name": "stdout",
     "output_type": "stream",
     "text": [
      "the index of maximum number is  2\n"
     ]
    }
   ],
   "source": [
    "var1=np.array([1,3,40,6])\n",
    "varargmax=np.argmax(var1)\n",
    "print(\"the index of maximum number is \",varargmax)"
   ]
  },
  {
   "cell_type": "markdown",
   "id": "e99195f1",
   "metadata": {},
   "source": [
    "# 2D Array"
   ]
  },
  {
   "cell_type": "code",
   "execution_count": 11,
   "id": "a414574f",
   "metadata": {},
   "outputs": [
    {
     "name": "stdout",
     "output_type": "stream",
     "text": [
      "the minimum value along column is  [1 3 5 6]\n",
      "\n",
      "the minimum value along row is  [1 3]\n"
     ]
    }
   ],
   "source": [
    "# axis =0   coulmn\n",
    "# axis=1    Row\n",
    "var1=np.array([[1,3,40,6],[3,4,5,9]])\n",
    "print(\"the minimum value along column is \",np.min(var1,axis=0))\n",
    "print()\n",
    "print(\"the minimum value along row is \",np.min(var1,axis=1))\n",
    "\n",
    "               "
   ]
  },
  {
   "cell_type": "code",
   "execution_count": 16,
   "id": "def946ea",
   "metadata": {},
   "outputs": [
    {
     "name": "stdout",
     "output_type": "stream",
     "text": [
      "the maximum value along column is  [ 3  4 40  9]\n",
      "\n",
      "the maxiimum value along row is  [40  9]\n"
     ]
    }
   ],
   "source": [
    "var1=np.array([[1,3,40,6],[3,4,5,9]])\n",
    "print(\"the maximum value along column is \",np.max(var1,axis=0))\n",
    "print()\n",
    "print(\"the maxiimum value along row is \",np.max(var1,axis=1))\n"
   ]
  },
  {
   "cell_type": "code",
   "execution_count": 18,
   "id": "6a8e4a5b",
   "metadata": {},
   "outputs": [
    {
     "name": "stdout",
     "output_type": "stream",
     "text": [
      "[0.         0.84147098]\n",
      "[1.         0.54030231]\n"
     ]
    }
   ],
   "source": [
    "var3=np.array([0,1])\n",
    "print(np.sin(var3))\n",
    "print(np.cos(var3))"
   ]
  },
  {
   "cell_type": "code",
   "execution_count": 19,
   "id": "ddadb962",
   "metadata": {},
   "outputs": [
    {
     "name": "stdout",
     "output_type": "stream",
     "text": [
      "[ 0  1  6 12 19]\n"
     ]
    }
   ],
   "source": [
    "# cumsum=sum of element  like fabonicci series eg in statistics we find mean\n",
    "var3=np.array([0,1,5,6,7])\n",
    "print(np.cumsum(var3))\n"
   ]
  },
  {
   "cell_type": "code",
   "execution_count": null,
   "id": "2cceb2c8",
   "metadata": {},
   "outputs": [],
   "source": []
  }
 ],
 "metadata": {
  "kernelspec": {
   "display_name": "Python 3 (ipykernel)",
   "language": "python",
   "name": "python3"
  },
  "language_info": {
   "codemirror_mode": {
    "name": "ipython",
    "version": 3
   },
   "file_extension": ".py",
   "mimetype": "text/x-python",
   "name": "python",
   "nbconvert_exporter": "python",
   "pygments_lexer": "ipython3",
   "version": "3.9.12"
  }
 },
 "nbformat": 4,
 "nbformat_minor": 5
}
